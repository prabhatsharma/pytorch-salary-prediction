{
 "cells": [
  {
   "cell_type": "code",
   "execution_count": 1,
   "metadata": {},
   "outputs": [],
   "source": [
    "import torch\n",
    "import pandas as pd\n",
    "import numpy as np\n",
    "import matplotlib.pyplot as plt"
   ]
  },
  {
   "cell_type": "code",
   "execution_count": 2,
   "metadata": {},
   "outputs": [],
   "source": [
    "df = pd.read_csv('Salary_Data.csv')"
   ]
  },
  {
   "cell_type": "code",
   "execution_count": 3,
   "metadata": {},
   "outputs": [],
   "source": [
    "x = df.loc[:, 'YearsExperience'].values\n",
    "y = df.loc[:, 'Salary'].values\n",
    "\n",
    "xp = torch.from_numpy(x).float().cuda()\n",
    "yp = torch.from_numpy(y).float().cuda()"
   ]
  },
  {
   "cell_type": "code",
   "execution_count": 4,
   "metadata": {},
   "outputs": [
    {
     "name": "stdout",
     "output_type": "stream",
     "text": [
      "tensor([ 1.1000,  1.3000,  1.5000,  2.0000,  2.2000,  2.9000,  3.0000,  3.2000,\n",
      "         3.2000,  3.7000,  3.9000,  4.0000,  4.0000,  4.1000,  4.5000,  4.9000,\n",
      "         5.1000,  5.3000,  5.9000,  6.0000,  6.8000,  7.1000,  7.9000,  8.2000,\n",
      "         8.7000,  9.0000,  9.5000,  9.6000, 10.3000, 10.5000], device='cuda:0')\n",
      "tensor([ 39343.,  46205.,  37731.,  43525.,  39891.,  56642.,  60150.,  54445.,\n",
      "         64445.,  57189.,  63218.,  55794.,  56957.,  57081.,  61111.,  67938.,\n",
      "         66029.,  83088.,  81363.,  93940.,  91738.,  98273., 101302., 113812.,\n",
      "        109431., 105582., 116969., 112635., 122391., 121872.], device='cuda:0')\n"
     ]
    }
   ],
   "source": [
    "print(xp)\n",
    "print(yp)"
   ]
  },
  {
   "cell_type": "code",
   "execution_count": 5,
   "metadata": {},
   "outputs": [],
   "source": [
    "xp = xp.view(30,1)\n",
    "yp = yp.view(30,1)"
   ]
  },
  {
   "cell_type": "code",
   "execution_count": 6,
   "metadata": {},
   "outputs": [],
   "source": [
    "class linearRegression(torch.nn.Module):\n",
    "    def __init__(self, inputSize, outputSize):\n",
    "        super(linearRegression, self).__init__()\n",
    "        self.linear = torch.nn.Linear(inputSize, outputSize)\n",
    "\n",
    "    def forward(self, x):\n",
    "        out = self.linear(x)\n",
    "        return out"
   ]
  },
  {
   "cell_type": "code",
   "execution_count": 7,
   "metadata": {},
   "outputs": [],
   "source": [
    "inputDim = 1        # takes variable 'x' \n",
    "outputDim = 1       # takes variable 'y'\n",
    "learningRate = 0.02 \n",
    "epochs = 25\n",
    "\n",
    "model = linearRegression(inputDim, outputDim).cuda()"
   ]
  },
  {
   "cell_type": "code",
   "execution_count": 8,
   "metadata": {},
   "outputs": [],
   "source": [
    "criterion = torch.nn.MSELoss() \n",
    "optimizer = torch.optim.SGD(model.parameters(), lr=learningRate)"
   ]
  },
  {
   "cell_type": "code",
   "execution_count": 9,
   "metadata": {},
   "outputs": [
    {
     "name": "stdout",
     "output_type": "stream",
     "text": [
      "epoch:  0  , loss:  6503684608.0\n",
      "epoch:  1  , loss:  1568070144.0\n",
      "epoch:  2  , loss:  465957984.0\n",
      "epoch:  3  , loss:  218660512.0\n",
      "epoch:  4  , loss:  161994224.0\n",
      "epoch:  5  , loss:  147860208.0\n",
      "epoch:  6  , loss:  143235248.0\n",
      "epoch:  7  , loss:  140755376.0\n",
      "epoch:  8  , loss:  138778256.0\n",
      "epoch:  9  , loss:  136937232.0\n",
      "epoch:  10  , loss:  135150144.0\n",
      "epoch:  11  , loss:  133398280.0\n",
      "epoch:  12  , loss:  131677088.0\n",
      "epoch:  13  , loss:  129985128.0\n",
      "epoch:  14  , loss:  128321752.0\n",
      "epoch:  15  , loss:  126686424.0\n",
      "epoch:  16  , loss:  125078648.0\n",
      "epoch:  17  , loss:  123497928.0\n",
      "epoch:  18  , loss:  121943888.0\n",
      "epoch:  19  , loss:  120416016.0\n",
      "epoch:  20  , loss:  118913896.0\n",
      "epoch:  21  , loss:  117437072.0\n",
      "epoch:  22  , loss:  115985168.0\n",
      "epoch:  23  , loss:  114557696.0\n",
      "epoch:  24  , loss:  113154288.0\n"
     ]
    }
   ],
   "source": [
    "losses = []\n",
    "final_loss= 0\n",
    "for epoch in range(epochs):\n",
    "    \n",
    "    # get output from the model, given the inputs\n",
    "    y_pred = model(xp)\n",
    "\n",
    "    # get loss for the predicted output\n",
    "    loss = criterion(y_pred, yp)\n",
    "    \n",
    "    losses.append(loss.item())\n",
    "    \n",
    "    # Clear gradient buffers because we don't want any gradient from previous epoch to carry forward, dont want to cummulate gradients\n",
    "    optimizer.zero_grad()\n",
    "\n",
    "    # get gradients w.r.t to parameters\n",
    "    loss.backward()\n",
    "    \n",
    "    final_loss = loss.item()\n",
    "\n",
    "    # update parameters\n",
    "    optimizer.step()\n",
    "    \n",
    "    print('epoch: ', epoch, ' , loss: ', loss.item())"
   ]
  },
  {
   "cell_type": "code",
   "execution_count": 10,
   "metadata": {},
   "outputs": [
    {
     "data": {
      "text/plain": [
       "Text(0.5, 0, 'epochs')"
      ]
     },
     "execution_count": 10,
     "metadata": {},
     "output_type": "execute_result"
    },
    {
     "data": {
      "image/png": "[encoded data removed]",
      "text/plain": [
       "<Figure size 432x288 with 1 Axes>"
      ]
     },
     "metadata": {},
     "output_type": "display_data"
    }
   ],
   "source": [
    "plt.plot(range(epochs), losses)\n",
    "plt.ylabel('loss')\n",
    "plt.xlabel('epochs')"
   ]
  },
  {
   "cell_type": "code",
   "execution_count": 11,
   "metadata": {},
   "outputs": [
    {
     "data": {
      "text/plain": [
       "113154288.0"
      ]
     },
     "execution_count": 11,
     "metadata": {},
     "output_type": "execute_result"
    }
   ],
   "source": [
    "final_loss"
   ]
  },
  {
   "cell_type": "code",
   "execution_count": 12,
   "metadata": {},
   "outputs": [],
   "source": [
    "yt = model(xp)"
   ]
  },
  {
   "cell_type": "code",
   "execution_count": 13,
   "metadata": {},
   "outputs": [
    {
     "data": {
      "text/plain": [
       "Text(0, 0.5, 'salary')"
      ]
     },
     "execution_count": 13,
     "metadata": {},
     "output_type": "execute_result"
    },
    {
     "data": {
      "image/png": "[encoded data removed]",
      "text/plain": [
       "<Figure size 432x288 with 1 Axes>"
      ]
     },
     "metadata": {},
     "output_type": "display_data"
    }
   ],
   "source": [
    "plt.plot(xp.cpu(),yp.cpu(), 'o')\n",
    "plt.plot(xp.cpu(),yt.detach().cpu().numpy())\n",
    "plt.xlabel('experience')\n",
    "plt.ylabel('salary')"
   ]
  },
  {
   "cell_type": "code",
   "execution_count": null,
   "metadata": {},
   "outputs": [],
   "source": []
  },
  {
   "cell_type": "code",
   "execution_count": null,
   "metadata": {},
   "outputs": [],
   "source": []
  },
  {
   "cell_type": "code",
   "execution_count": null,
   "metadata": {},
   "outputs": [],
   "source": []
  }
 ],
 "metadata": {
  "kernelspec": {
   "display_name": "Environment (conda_pytorch_p36)",
   "language": "python",
   "name": "conda_pytorch_p36"
  },
  "language_info": {
   "codemirror_mode": {
    "name": "ipython",
    "version": 3
   },
   "file_extension": ".py",
   "mimetype": "text/x-python",
   "name": "python",
   "nbconvert_exporter": "python",
   "pygments_lexer": "ipython3",
   "version": "3.6.5"
  }
 },
 "nbformat": 4,
 "nbformat_minor": 2
}
